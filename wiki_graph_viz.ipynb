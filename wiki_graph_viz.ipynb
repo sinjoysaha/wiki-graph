{
 "cells": [
  {
   "cell_type": "code",
   "execution_count": 1,
   "id": "3815f8d1-1a8c-4927-834c-f199675ea494",
   "metadata": {},
   "outputs": [],
   "source": [
    "import requests\n",
    "from bs4 import BeautifulSoup\n",
    "import networkx as nx\n",
    "import matplotlib.pyplot as plt\n",
    "from wiki_utils import get_soup, get_href_list, get_word_from_href\n",
    "from pyvis import network"
   ]
  },
  {
   "cell_type": "code",
   "execution_count": 2,
   "id": "3b0ee3e9-d1dc-40f4-b3cd-a3028737cfed",
   "metadata": {},
   "outputs": [],
   "source": [
    "WIKI_HOME_URL = 'https://en.wikipedia.org'"
   ]
  },
  {
   "cell_type": "code",
   "execution_count": 36,
   "id": "544dc6bc-cb9b-4657-89b8-f427623a788d",
   "metadata": {},
   "outputs": [],
   "source": [
    "fname = \"output/wiki_digraph.pkl\"\n",
    "try:\n",
    "    wiki_graph = nx.read_gpickle(fname)\n",
    "except:\n",
    "    wiki_graph = nx.DiGraph()"
   ]
  },
  {
   "cell_type": "code",
   "execution_count": 37,
   "id": "b7c6746c-4552-4606-a126-a07482c12537",
   "metadata": {},
   "outputs": [],
   "source": [
    "def insert_edges(g, s, nwl):\n",
    "    for w in nwl:\n",
    "        print(f'Adding {s} -> {w}')\n",
    "        g.add_edge(s, w) \n"
   ]
  },
  {
   "cell_type": "code",
   "execution_count": 56,
   "id": "00ab6429-e75f-4cbc-ab2b-e7d3504f58e8",
   "metadata": {
    "scrolled": true,
    "tags": []
   },
   "outputs": [
    {
     "name": "stdout",
     "output_type": "stream",
     "text": [
      "Search word : Continent\n",
      "['Landmass', 'Convention_(norm)', 'Regions', 'Asia', 'Africa', 'North_America', 'South_America', 'Antarctica', 'Europe', 'Australia_(continent)', 'Afro-Eurasia', 'Americas', 'Eurasia', 'Zealandia']\n",
      "Adding Continent -> Landmass\n",
      "Adding Continent -> Convention_(norm)\n",
      "Adding Continent -> Regions\n",
      "Adding Continent -> Asia\n",
      "Adding Continent -> Africa\n",
      "Adding Continent -> North_America\n",
      "Adding Continent -> South_America\n",
      "Adding Continent -> Antarctica\n",
      "Adding Continent -> Europe\n",
      "Adding Continent -> Australia_(continent)\n",
      "Adding Continent -> Afro-Eurasia\n",
      "Adding Continent -> Americas\n",
      "Adding Continent -> Eurasia\n",
      "Adding Continent -> Zealandia\n"
     ]
    }
   ],
   "source": [
    "SEARCH_WORD = 'Continent'\n",
    "while(True):\n",
    "    print(f'Search word : {SEARCH_WORD}')\n",
    "    URL = f'{WIKI_HOME_URL}/wiki/{SEARCH_WORD}'  \n",
    "    soup = get_soup(URL)  \n",
    "    href_list = get_href_list(soup)\n",
    "    next_word_list = get_word_from_href(href_list)\n",
    "    print(next_word_list)\n",
    "    next_word = next_word_list[0]\n",
    "        \n",
    "    if next_word in wiki_graph.nodes():\n",
    "        insert_edges(wiki_graph, SEARCH_WORD, next_word_list)\n",
    "        break\n",
    "    \n",
    "    insert_edges(wiki_graph, SEARCH_WORD, next_word_list)\n",
    "    \n",
    "#     wiki_graph.add_edge(SEARCH_WORD, next_word)  \n",
    "    SEARCH_WORD = next_word    "
   ]
  },
  {
   "cell_type": "code",
   "execution_count": 31,
   "id": "c3ed0d4e-5392-4221-83aa-627fcafecaa4",
   "metadata": {
    "collapsed": true,
    "jupyter": {
     "outputs_hidden": true
    },
    "tags": []
   },
   "outputs": [
    {
     "data": {
      "text/plain": [
       "(NodeView(('Kolkata', 'List_of_renamed_Indian_cities_and_states', 'Capital_city', 'India', 'States_and_union_territories_of_India', 'West_Bengal', 'Hooghly_River', 'Bangladesh', 'East_India', 'North-East_India', 'List_of_most_populous_cities_in_India', 'Lakh', 'Crore', 'Kolkata_metropolitan_area', 'List_of_metropolitan_areas_in_India', 'Port_of_Kolkata', 'British_Raj', 'United_Kingdom', 'Endonym_and_exonym', 'Hindi_language', 'The_Crown', 'Indian_subcontinent', 'United_Kingdom_of_Great_Britain_and_Ireland', 'Presidencies_and_provinces_of_British_India', 'British_paramountcy', 'Princely_state', 'Devanagari', 'ISO_15919', 'Indo-Aryan_language', 'Hindi_Belt', 'North_India', 'Central_India', 'Western_India', 'Standard_language', 'Sanskrit', 'Register_(sociolinguistics)', 'Hindustani_language', 'Old_Hindi', 'Delhi', 'Northern_India', 'Official_language', 'Government_of_India', 'Indian_English', 'Languages_with_official_status_in_India', 'States_of_India', 'Union_Territories', 'Scheduled_languages_of_India', 'IAST', 'Sanskrit_language', 'Abugida', 'Brahmi_script', 'List_of_writing_systems_by_adoption', 'Romanisation', 'Brahmic_family', 'Sir_Charles_Trevelyan,_1st_Baronet', 'William_Jones_(philologist)', 'Monier_Monier-Williams', 'International_Congress_of_Orientalists', 'Linguistics', 'Writing_system', 'Latin_script', 'Transliteration', 'Transcription_(linguistics)', 'Phoneme', 'Semantic', 'Science', 'Scientific_study', 'Human', 'Language', 'Cognition', 'Scientific_field', 'Academic_discipline', 'Social_science', 'Natural_science', 'Cognitive_science', 'Humanities', 'Scientific_method', 'Knowledge', 'Testability', 'Explanation', 'Prediction', 'Universe', 'Empirical_evidence', 'Observation', 'Skepticism', 'Philosophy_of_science', 'Perception', 'Hypothesis', 'Inductive_reasoning', 'Experiment', 'Deductive_reasoning', 'Proposition', 'Evidence', 'Sense', 'Epistemology', 'Law', 'Logic', 'Sentence_(linguistics)', 'Philosophy', 'Meaning_(philosophy)', 'Truth-bearer', 'Truth', 'False_(logic)', 'Reason', 'Argument', 'Validity_(logic)', 'Inference', 'Logical_truth', 'Formal_science', 'Premise', 'Logical_constant', 'Formal_system', 'Informal_logic', 'Formal_language', 'Natural_language', 'Ampliative', 'Formal_fallacy', 'Informal_fallacies', 'Consciousness', 'Logical_consequence', 'Information', 'Mathematics', 'Art', 'Humans', 'Rationality', 'Sentience', 'Awareness', 'Mind', 'Introspection', 'Thought', 'Imagination', 'Volition_(psychology)', 'Experience', 'Feeling', 'Meta-cognition', 'Self-awareness', 'Higher-order_theories_of_consciousness', 'Mumbai', 'Maharashtra', 'United_Nations', 'List_of_cities_in_India_by_population', 'List_of_largest_cities', 'City_proper', 'Municipal_Corporation_of_Greater_Mumbai', 'Mumbai_Metropolitan_Region', 'Konkan', 'Natural_harbour', 'Alpha_world_city', 'Millionaire', 'Billionaire', 'List_of_World_Heritage_Sites_in_India', 'Elephanta_Caves', 'Chhatrapati_Shivaji_Terminus', 'The_Victorian_and_Art_Deco_Ensemble_of_Mumbai', 'Union_territory', 'New_Delhi', 'Yamuna', 'Uttar_Pradesh', 'Haryana', 'Ghaziabad', 'Faridabad', 'Gurgaon', 'Noida', 'National_Capital_Region_(India)', 'List_of_urban_areas_by_population', 'Tokyo', 'Administrative_divisions_of_India', 'Federal_territory', 'Ancient_Greek_language', 'Arithmetic', 'Number_theory', 'Algebra', 'Geometry', 'Calculus', 'Mathematical_analysis', 'Greek_language', 'Ancient_Greece', 'Classical_antiquity', 'Mycenaean_Greek', 'Greek_Dark_Ages', 'Archaic_Greece', 'Classical_Greece', 'Modern_Greek', 'Indo-European_languages', 'Greece', 'Cyprus', 'Albania', 'Balkans', 'Black_Sea', 'Asia_Minor', 'Eastern_Mediterranean', 'List_of_languages_by_first_written_accounts', 'Greek_alphabet', 'Linear_B', 'Cypriot_syllabary', 'Phoenician_alphabet', 'Cyrillic', 'Armenian_alphabet', 'Coptic_alphabet', 'Gothic_alphabet', 'Dialect', 'Varieties_of_Modern_Greek', 'Medieval_Greek', 'Byzantine_Empire', 'Latin', 'Ancient_Greek', 'Classical_language', 'Italic_languages', 'Tiber', 'Rome', 'Latium', 'Roman_Republic', 'Italy_(geographical_region)', 'Roman_Empire', 'Fall_of_the_Western_Roman_Empire', 'Common_language', 'International_communication', 'Scholar', 'Academia', 'Europe', '18th_century', 'Romance_languages', 'Dead_language', 'Extinct_language', 'Diglossia')),\n",
       " ['Language', 'Extinct_language', 'Diglossia'])"
      ]
     },
     "execution_count": 31,
     "metadata": {},
     "output_type": "execute_result"
    }
   ],
   "source": [
    "wiki_graph.nodes(), list(wiki_graph.neighbors(SEARCH_WORD))"
   ]
  },
  {
   "cell_type": "code",
   "execution_count": 57,
   "id": "86e5860c-048a-4b2f-b873-6b39d563001c",
   "metadata": {
    "tags": []
   },
   "outputs": [
    {
     "name": "stdout",
     "output_type": "stream",
     "text": [
      "Adding size based on in degree of node.\n"
     ]
    }
   ],
   "source": [
    "print('Adding size based on in degree of node.')\n",
    "for node in wiki_graph.nodes():\n",
    "    wiki_graph.nodes()[node]['size'] = max(wiki_graph.in_degree(node)*10, 1)"
   ]
  },
  {
   "cell_type": "code",
   "execution_count": 58,
   "id": "70499c64-2b8c-40d5-bc56-6ddf6fad0c52",
   "metadata": {},
   "outputs": [],
   "source": [
    "# plt.figure(figsize=(16, 12))\n",
    "# nx.draw_kamada_kawai(wiki_graph, with_labels=True)"
   ]
  },
  {
   "cell_type": "code",
   "execution_count": 59,
   "id": "df3f3cd1-af1d-4e7b-adc8-52148a0fd168",
   "metadata": {},
   "outputs": [],
   "source": [
    "visnet = network.Network(height='800px', width='1400px', directed=True, heading='Wiki Graph')\n",
    "visnet.from_nx(wiki_graph)\n",
    "# visnet.force_atlas_2based()\n",
    "visnet.show_buttons()\n",
    "visnet.show('wiki_graph.html')"
   ]
  },
  {
   "cell_type": "code",
   "execution_count": 39,
   "id": "23392395-4d32-4519-994b-2f83f567a8af",
   "metadata": {},
   "outputs": [],
   "source": [
    "fpath = \"output/wiki_digraph.pkl\"\n",
    "nx.write_gpickle(wiki_graph, fname)"
   ]
  },
  {
   "cell_type": "code",
   "execution_count": 46,
   "id": "a4b9fde5-6d54-4426-9b43-4b2996aa27f9",
   "metadata": {},
   "outputs": [],
   "source": [
    "# plt.figure(figsize=(16, 12))\n",
    "# nx.draw(wiki_graph, with_labels=True)"
   ]
  },
  {
   "cell_type": "code",
   "execution_count": null,
   "id": "5d35cae2-7e8e-4823-8272-ff74e9757656",
   "metadata": {},
   "outputs": [],
   "source": []
  }
 ],
 "metadata": {
  "kernelspec": {
   "display_name": "Python 3 (ipykernel)",
   "language": "python",
   "name": "python3"
  },
  "language_info": {
   "codemirror_mode": {
    "name": "ipython",
    "version": 3
   },
   "file_extension": ".py",
   "mimetype": "text/x-python",
   "name": "python",
   "nbconvert_exporter": "python",
   "pygments_lexer": "ipython3",
   "version": "3.9.6"
  }
 },
 "nbformat": 4,
 "nbformat_minor": 5
}
